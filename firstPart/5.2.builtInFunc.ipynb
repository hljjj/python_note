{
 "metadata": {
  "language_info": {
   "codemirror_mode": {
    "name": "ipython",
    "version": 3
   },
   "file_extension": ".py",
   "mimetype": "text/x-python",
   "name": "python",
   "nbconvert_exporter": "python",
   "pygments_lexer": "ipython3",
   "version": "3.8.6"
  },
  "orig_nbformat": 4,
  "kernelspec": {
   "name": "python3",
   "display_name": "Python 3.8.6 64-bit"
  },
  "interpreter": {
   "hash": "41ebdc91623ce1ccd7c3fc260659a9235d6be3d69ca4d15866a80631928b2c19"
  }
 },
 "nbformat": 4,
 "nbformat_minor": 2,
 "cells": [
  {
   "cell_type": "code",
   "execution_count": 41,
   "metadata": {},
   "outputs": [],
   "source": [
    "#类操作\n",
    "class Employee():\n",
    "\n",
    "    def __init__(self,name=\"NoName\",age=25,salary=10000,posititon=\"SDE\"):\n",
    "        self.name = name\n",
    "        self.age = age\n",
    "        self.salary = salary\n",
    "        self.position = posititon\n",
    "\n",
    "    def logInfo(self):\n",
    "        print(f\"name is {self.name}\\nage is {self.age}\\nsalary is {self.salary}\")\n",
    "\n",
    "    def introduce(self):\n",
    "        print(\"员工类，调用以创建员工对象\\n输入属性：\\n姓名\\n年龄\\n薪资\\n岗位\")\n",
    "\n",
    "# 在未加 classmethod 之前，不能直接调用类的方法，会报错，此时self是必须的\n",
    "# Employee.introduce()\n"
   ]
  },
  {
   "cell_type": "code",
   "execution_count": 47,
   "metadata": {},
   "outputs": [
    {
     "output_type": "stream",
     "name": "stdout",
     "text": [
      "员工类，调用以创建员工对象\n输入属性：\n姓名\n年龄\n薪资\n岗位\n"
     ]
    },
    {
     "output_type": "error",
     "ename": "TypeError",
     "evalue": "introduce() takes 1 positional argument but 2 were given",
     "traceback": [
      "\u001b[1;31m---------------------------------------------------------------------------\u001b[0m",
      "\u001b[1;31mTypeError\u001b[0m                                 Traceback (most recent call last)",
      "\u001b[1;32m<ipython-input-47-f85a4fd6c8b3>\u001b[0m in \u001b[0;36m<module>\u001b[1;34m\u001b[0m\n\u001b[0;32m      5\u001b[0m \u001b[1;31m# 或者用classmethod重置方法属性\u001b[0m\u001b[1;33m\u001b[0m\u001b[1;33m\u001b[0m\u001b[1;33m\u001b[0m\u001b[0m\n\u001b[0;32m      6\u001b[0m \u001b[0mEmployee\u001b[0m\u001b[1;33m.\u001b[0m\u001b[0mintroduce\u001b[0m \u001b[1;33m=\u001b[0m \u001b[0mclassmethod\u001b[0m\u001b[1;33m(\u001b[0m\u001b[0mEmployee\u001b[0m\u001b[1;33m.\u001b[0m\u001b[0mintroduce\u001b[0m\u001b[1;33m)\u001b[0m\u001b[1;33m\u001b[0m\u001b[1;33m\u001b[0m\u001b[0m\n\u001b[1;32m----> 7\u001b[1;33m \u001b[0mEmployee\u001b[0m\u001b[1;33m.\u001b[0m\u001b[0mintroduce\u001b[0m\u001b[1;33m(\u001b[0m\u001b[1;33m)\u001b[0m\u001b[1;33m\u001b[0m\u001b[1;33m\u001b[0m\u001b[0m\n\u001b[0m",
      "\u001b[1;31mTypeError\u001b[0m: introduce() takes 1 positional argument but 2 were given"
     ]
    }
   ],
   "source": [
    "# 只能通过这种方式调用\n",
    "cassie = Employee('cassie')\n",
    "cassie.introduce()\n",
    "\n",
    "# 或者用classmethod重置方法属性\n",
    "Employee.introduce = classmethod(Employee.introduce)\n",
    "Employee.introduce()\n"
   ]
  },
  {
   "cell_type": "code",
   "execution_count": 50,
   "metadata": {},
   "outputs": [
    {
     "output_type": "stream",
     "name": "stdout",
     "text": [
      "员工类，调用以创建员工对象\n输入属性：\n姓名\n年龄\n薪资\n岗位\n"
     ]
    }
   ],
   "source": [
    "class Employee():\n",
    "\n",
    "    def __init__(self,name=\"NoName\",age=25,salary=10000,posititon=\"SDE\"):\n",
    "        self.name = name\n",
    "        self.age = age\n",
    "        self.salary = salary\n",
    "        self.position = posititon\n",
    "\n",
    "    @classmethod\n",
    "    def logInfo(self):\n",
    "        print(f\"name is {self.name}\\nage is {self.age}\\nsalary is {self.salary}\")\n",
    "\n",
    "    @classmethod\n",
    "    def introduce(self):\n",
    "        print(\"员工类，调用以创建员工对象\\n输入属性：\\n姓名\\n年龄\\n薪资\\n岗位\")\n",
    "\n",
    "# 增加 classmethod 可以忽略需要传递的self对象，直接调用方法\n",
    "Employee.introduce()\n",
    "\n",
    "# 但是代码里需要引用self属性的话,仍然不能直接调用,该函数需要代码配合使用\n",
    "# Employee.logInfo()"
   ]
  },
  {
   "cell_type": "code",
   "execution_count": 44,
   "metadata": {},
   "outputs": [
    {
     "output_type": "execute_result",
     "data": {
      "text/plain": [
       "{'name': 'cassie', 'age': 25, 'salary': 10000, 'position': 'SDE'}"
      ]
     },
     "metadata": {},
     "execution_count": 44
    }
   ],
   "source": [
    "vars(cassie)"
   ]
  },
  {
   "cell_type": "code",
   "execution_count": 48,
   "metadata": {},
   "outputs": [
    {
     "output_type": "execute_result",
     "data": {
      "text/plain": [
       "25"
      ]
     },
     "metadata": {},
     "execution_count": 48
    }
   ],
   "source": [
    "getattr(cassie,'age')"
   ]
  },
  {
   "cell_type": "code",
   "execution_count": 57,
   "metadata": {},
   "outputs": [
    {
     "output_type": "execute_result",
     "data": {
      "text/plain": [
       "'DS'"
      ]
     },
     "metadata": {},
     "execution_count": 57
    }
   ],
   "source": [
    "delattr(cassie,'age')\n",
    "setattr(cassie,'age',26)\n",
    "cassie.age\n",
    "setattr(cassie,'position','DS')\n",
    "cassie.position"
   ]
  },
  {
   "cell_type": "code",
   "execution_count": 54,
   "metadata": {},
   "outputs": [
    {
     "output_type": "stream",
     "name": "stdout",
     "text": [
      "[1, 3, 5, 6, 12]\n[12, 1, 6, 5, 3]\n[3, 5, 6, 1, 12]\n"
     ]
    }
   ],
   "source": [
    "#集合操作\n",
    "listSort = [3,5,6,1,12]\n",
    "print(sorted(listSort))\n",
    "print(list(reversed(listSort)))\n",
    "print(listSort)"
   ]
  },
  {
   "cell_type": "code",
   "execution_count": null,
   "metadata": {},
   "outputs": [],
   "source": []
  }
 ]
}